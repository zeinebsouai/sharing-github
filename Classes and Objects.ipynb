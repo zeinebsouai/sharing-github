{
 "cells": [
  {
   "cell_type": "code",
   "execution_count": 65,
   "id": "9d0f5ef6",
   "metadata": {
    "scrolled": true
   },
   "outputs": [
    {
     "name": "stdout",
     "output_type": "stream",
     "text": [
      "<__main__.Point3D object at 0x0000021A6CBE4B50>\n"
     ]
    },
    {
     "data": {
      "text/plain": [
       "(1, 2, 3)"
      ]
     },
     "execution_count": 65,
     "metadata": {},
     "output_type": "execute_result"
    }
   ],
   "source": [
    "#question1\n",
    "class Point3D:\n",
    "    def __init__(self,x,y,z):\n",
    "        self.x=x\n",
    "        self.y=y\n",
    "        self.z=z\n",
    "    def meth(self):\n",
    "        return(self.x,self.y,self.z)\n",
    "my_point=Point3D(1,2,3)\n",
    "print(my_point)\n",
    "my_point.meth()"
   ]
  },
  {
   "cell_type": "code",
   "execution_count": 11,
   "id": "2da4be69",
   "metadata": {},
   "outputs": [
    {
     "name": "stdout",
     "output_type": "stream",
     "text": [
      "12\n",
      "14\n"
     ]
    }
   ],
   "source": [
    "#question2\n",
    "class rectangle:\n",
    "    def __init__(self,length,width):\n",
    "        self.length=length\n",
    "        self.width=width\n",
    "    def area(self):\n",
    "        a=self.length*self.width\n",
    "        return(a)\n",
    "    def perimeter(self):\n",
    "        p=(self.length+self.width)*2\n",
    "        return(p)\n",
    "my_rectangle= rectangle(4,3)\n",
    "print(my_rectangle.area())\n",
    "print(my_rectangle.perimeter())"
   ]
  },
  {
   "cell_type": "code",
   "execution_count": 66,
   "id": "9010e2c8",
   "metadata": {},
   "outputs": [
    {
     "name": "stdout",
     "output_type": "stream",
     "text": [
      "50.26548245743669\n",
      "25.132741228718345\n",
      "input xa: 1\n",
      "input ya: 1\n",
      "A belongs to the circle\n"
     ]
    }
   ],
   "source": [
    "#question3\n",
    "class circle:\n",
    "    def __init__(self,xo,yo,r):\n",
    "        self.xo=xo\n",
    "        self.yo=yo\n",
    "        self.r=r\n",
    "    def area(self):\n",
    "        import math\n",
    "        a=math.pi*self.r**2\n",
    "        return(a)\n",
    "    def perimeter(self):\n",
    "        import math\n",
    "        p=2*math.pi*self.r\n",
    "        return(p)\n",
    "    def isinside(self):\n",
    "        import math\n",
    "        d=math.sqrt((self.xo-xa)**2+(self.yo-ya)**2)\n",
    "        if d<=self.r:\n",
    "            print('A belongs to the circle')\n",
    "        else:\n",
    "            print('A doesnt belong to the circle')\n",
    "c= circle(0,0,4)\n",
    "print(c.area())\n",
    "print(c.perimeter())\n",
    "xa=int(input('input xa: '))\n",
    "ya=int(input('input ya: ')) \n",
    "c.isinside()\n"
   ]
  },
  {
   "cell_type": "code",
   "execution_count": 52,
   "id": "bcc7600f",
   "metadata": {},
   "outputs": [
    {
     "data": {
      "text/plain": [
       "120"
      ]
     },
     "execution_count": 52,
     "metadata": {},
     "output_type": "execute_result"
    }
   ],
   "source": [
    "#question4\n",
    "class bank:\n",
    "    def __init__(self,balance):\n",
    "        self.balance=balance\n",
    "    def deposit(self,amount):\n",
    "        self.balance=self.balance+amount\n",
    "        return(self.balance)\n",
    "    def withdraw(self,amount):\n",
    "        self.balance=self.balance-amount\n",
    "        return(self.balance)\n",
    "account=bank(100)\n",
    "account.deposit(50)\n",
    "account.withdraw(30)"
   ]
  },
  {
   "cell_type": "code",
   "execution_count": null,
   "id": "5d69b852",
   "metadata": {},
   "outputs": [],
   "source": []
  }
 ],
 "metadata": {
  "kernelspec": {
   "display_name": "Python 3 (ipykernel)",
   "language": "python",
   "name": "python3"
  },
  "language_info": {
   "codemirror_mode": {
    "name": "ipython",
    "version": 3
   },
   "file_extension": ".py",
   "mimetype": "text/x-python",
   "name": "python",
   "nbconvert_exporter": "python",
   "pygments_lexer": "ipython3",
   "version": "3.9.7"
  }
 },
 "nbformat": 4,
 "nbformat_minor": 5
}
