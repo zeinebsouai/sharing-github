{
 "cells": [
  {
   "cell_type": "code",
   "execution_count": 14,
   "id": "f5f37472",
   "metadata": {},
   "outputs": [
    {
     "name": "stdout",
     "output_type": "stream",
     "text": [
      "enter your first name: zeineb\n",
      "enter your last name: souai\n",
      "beniez   iauos\n"
     ]
    }
   ],
   "source": [
    "#question1\n",
    "first=input(\"enter your first name: \")[::-1]\n",
    "last=input(\"enter your last name: \")[::-1]\n",
    "print(first,\" \",last)\n",
    "\n"
   ]
  },
  {
   "cell_type": "code",
   "execution_count": 18,
   "id": "1ad613ed",
   "metadata": {},
   "outputs": [
    {
     "name": "stdout",
     "output_type": "stream",
     "text": [
      "enter n: 5\n",
      "615\n"
     ]
    }
   ],
   "source": [
    "#question2\n",
    "n=input(\"enter n: \")\n",
    "a=int(n)\n",
    "b=int(n+n)\n",
    "c=int(n+n+n)\n",
    "print(a+b+c)\n"
   ]
  },
  {
   "cell_type": "code",
   "execution_count": 20,
   "id": "2cd8f708",
   "metadata": {},
   "outputs": [
    {
     "name": "stdout",
     "output_type": "stream",
     "text": [
      "enter a number: 5\n",
      "odd number\n"
     ]
    }
   ],
   "source": [
    "#question3\n",
    "x=int(input(\"enter a number: \" ))\n",
    "if x%2==1 :\n",
    "    print(\"odd number\")\n",
    "else:\n",
    "    print(\"even number\")"
   ]
  },
  {
   "cell_type": "code",
   "execution_count": 23,
   "id": "81a06088",
   "metadata": {},
   "outputs": [
    {
     "name": "stdout",
     "output_type": "stream",
     "text": [
      "2002 2009 2016 2023 2037 2044 2051 2058 2072 2079 2086 2093 2107 2114 2121 2128 2142 2149 2156 2163 2177 2184 2191 2198 2212 2219 2226 2233 2247 2254 2261 2268 2282 2289 2296 2303 2317 2324 2331 2338 2352 2359 2366 2373 2387 2394 2401 2408 2422 2429 2436 2443 2457 2464 2471 2478 2492 2499 2506 2513 2527 2534 2541 2548 2562 2569 2576 2583 2597 2604 2611 2618 2632 2639 2646 2653 2667 2674 2681 2688 2702 2709 2716 2723 2737 2744 2751 2758 2772 2779 2786 2793 2807 2814 2821 2828 2842 2849 2856 2863 2877 2884 2891 2898 2912 2919 2926 2933 2947 2954 2961 2968 2982 2989 2996 3003 3017 3024 3031 3038 3052 3059 3066 3073 3087 3094 3101 3108 3122 3129 3136 3143 3157 3164 3171 3178 3192 3199 "
     ]
    }
   ],
   "source": [
    "#question4\n",
    "x= range(2000,3201)\n",
    "for n in x:\n",
    "    if n%7==0 and n%5!=0 :\n",
    "        print(n,end=\" \")\n",
    "        "
   ]
  },
  {
   "cell_type": "code",
   "execution_count": 48,
   "id": "3efbe61c",
   "metadata": {},
   "outputs": [
    {
     "name": "stdout",
     "output_type": "stream",
     "text": [
      "enter a number: 8\n",
      "x!=  40320 "
     ]
    }
   ],
   "source": [
    "#question5\n",
    "x=int(input(\"enter a number: \"))\n",
    "if x==0 :\n",
    "    print(\"x!=1\")\n",
    "else :\n",
    "    i=0\n",
    "    f=1\n",
    "    while i in range(i,x):\n",
    "        i=i+1\n",
    "        f=f*i\n",
    "    print(\"x!= \",f,end=\" \")"
   ]
  },
  {
   "cell_type": "code",
   "execution_count": 50,
   "id": "a675b527",
   "metadata": {},
   "outputs": [
    {
     "name": "stdout",
     "output_type": "stream",
     "text": [
      "enter a string: hello team\n",
      "hlota\n"
     ]
    }
   ],
   "source": [
    "#question6\n",
    "s=input(\"enter a string: \")\n",
    "s1=\"\"\n",
    "for i in range(0,len(s),2):\n",
    "    s1=s1+s[i]\n",
    "print(s1)\n",
    "    \n"
   ]
  },
  {
   "cell_type": "code",
   "execution_count": 53,
   "id": "f1e61702",
   "metadata": {},
   "outputs": [
    {
     "name": "stdout",
     "output_type": "stream",
     "text": [
      "enter the price: 250\n",
      "your discounted price is:  175.0\n"
     ]
    }
   ],
   "source": [
    "#question7\n",
    "p=int(input(\"enter the price: \"))\n",
    "dp=0\n",
    "if p>=500 :\n",
    "    dp=p*0.5\n",
    "elif p<200 :\n",
    "    dp=p*0.9\n",
    "else :\n",
    "    dp=p*0.7\n",
    "print(\"your discounted price is: \",dp)\n",
    "    \n",
    "    "
   ]
  }
 ],
 "metadata": {
  "kernelspec": {
   "display_name": "Python 3 (ipykernel)",
   "language": "python",
   "name": "python3"
  },
  "language_info": {
   "codemirror_mode": {
    "name": "ipython",
    "version": 3
   },
   "file_extension": ".py",
   "mimetype": "text/x-python",
   "name": "python",
   "nbconvert_exporter": "python",
   "pygments_lexer": "ipython3",
   "version": "3.9.7"
  }
 },
 "nbformat": 4,
 "nbformat_minor": 5
}
