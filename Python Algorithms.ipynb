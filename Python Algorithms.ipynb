{
 "cells": [
  {
   "cell_type": "code",
   "execution_count": 12,
   "id": "fc621518",
   "metadata": {},
   "outputs": [
    {
     "data": {
      "text/plain": [
       "True"
      ]
     },
     "execution_count": 12,
     "metadata": {},
     "output_type": "execute_result"
    }
   ],
   "source": [
    "#question1\n",
    "pos=-1\n",
    "def search(list,n):\n",
    "    list.sort()\n",
    "    l=0\n",
    "    u=len(list)-1\n",
    "    while l<=u:\n",
    "        mid=(l+u)//2\n",
    "        if list[mid]==n:\n",
    "            globals()['pos']=mid\n",
    "            return True\n",
    "        else:\n",
    "            if list[mid]<n:\n",
    "                l=mid+1\n",
    "            else:\n",
    "                u=mid-1\n",
    "list=[1,6,9,15,78]\n",
    "n=15\n",
    "search(list,n)\n",
    "    "
   ]
  },
  {
   "cell_type": "code",
   "execution_count": 15,
   "id": "8c30c033",
   "metadata": {},
   "outputs": [
    {
     "name": "stdout",
     "output_type": "stream",
     "text": [
      "81\n"
     ]
    }
   ],
   "source": [
    "#question2\n",
    "def power(a,b):\n",
    "    if a==0:\n",
    "        return 0\n",
    "    elif b==0:\n",
    "        return 1\n",
    "    elif b==1:\n",
    "        return(a)\n",
    "    else:\n",
    "        return a*power(a,b-1)\n",
    "print(power(3,4))"
   ]
  },
  {
   "cell_type": "code",
   "execution_count": 18,
   "id": "38ed3131",
   "metadata": {},
   "outputs": [
    {
     "data": {
      "text/plain": [
       "[13, 22, 29, 37, 46, 49, 52, 71, 56]"
      ]
     },
     "execution_count": 18,
     "metadata": {},
     "output_type": "execute_result"
    }
   ],
   "source": [
    "#question3\n",
    "def bubblesort(liste):\n",
    "    for p in range(0,len(liste)-1,1):\n",
    "        for i in range(p):\n",
    "            if liste[i]>liste[i+1]:\n",
    "                x=liste[i]\n",
    "                liste[i]=liste[i+1]\n",
    "                liste[i+1]=x\n",
    "liste=[29,13,22,37,52,49,46,71,56]\n",
    "bubblesort(liste)\n",
    "liste                "
   ]
  },
  {
   "cell_type": "code",
   "execution_count": 25,
   "id": "69940f61",
   "metadata": {},
   "outputs": [
    {
     "name": "stdout",
     "output_type": "stream",
     "text": [
      "[29, 13, 22, 37, 52, 49, 46, 71, 56]\n",
      "[29, 13, 22, 37]\n",
      "[29, 13]\n",
      "[29]\n",
      "[29]\n",
      "[13]\n",
      "[13]\n",
      "[13, 29]\n",
      "[22, 37]\n",
      "[22]\n",
      "[22]\n",
      "[37]\n",
      "[37]\n",
      "[22, 37]\n",
      "[13, 22, 29, 37]\n",
      "[52, 49, 46, 71, 56]\n",
      "[52, 49]\n",
      "[52]\n",
      "[52]\n",
      "[49]\n",
      "[49]\n",
      "[49, 52]\n",
      "[46, 71, 56]\n",
      "[46]\n",
      "[46]\n",
      "[71, 56]\n",
      "[71]\n",
      "[71]\n",
      "[56]\n",
      "[56]\n",
      "[56, 71]\n",
      "[46, 56, 71]\n",
      "[46, 49, 52, 56, 71]\n",
      "[13, 22, 29, 37, 46, 49, 52, 56, 71]\n"
     ]
    }
   ],
   "source": [
    "#question4\n",
    "def mergesort(liste):\n",
    "    print(liste)\n",
    "    if len(liste)>1:\n",
    "        m=len(liste)//2\n",
    "        lefthalf=liste[:m]\n",
    "        righthalf=liste[m:]\n",
    "        mergesort(lefthalf)\n",
    "        mergesort(righthalf)\n",
    "        i=j=k=0\n",
    "        while i<len(lefthalf) and j<len(righthalf):\n",
    "            if lefthalf[i]<righthalf[j]:\n",
    "                liste[k]=lefthalf[i]\n",
    "                i+=1\n",
    "            else:\n",
    "                liste[k]=righthalf[j]\n",
    "                j+=1\n",
    "            k+=1\n",
    "        while i < len(lefthalf):\n",
    "            liste[k]=lefthalf[i]\n",
    "            i=i+1\n",
    "            k=k+1\n",
    "\n",
    "        while j < len(righthalf):\n",
    "            liste[k]=righthalf[j]\n",
    "            j=j+1\n",
    "            k=k+1\n",
    "    print(liste)\n",
    "\n",
    "liste = [29,13,22,37,52,49,46,71,56]\n",
    "mergesort(liste)\n"
   ]
  },
  {
   "cell_type": "code",
   "execution_count": 29,
   "id": "88cbb88a",
   "metadata": {},
   "outputs": [
    {
     "name": "stdout",
     "output_type": "stream",
     "text": [
      "[13, 22, 29, 37, 46, 49, 52, 56, 71]\n"
     ]
    }
   ],
   "source": [
    "#question5\n",
    "def quicksort(liste):\n",
    "    quicksortHlp(liste,0,len(liste)-1)\n",
    "def quicksortHlp(liste,first,last):\n",
    "    if first < last:\n",
    "        splitpoint = partition(liste,first,last)\n",
    "        quicksortHlp(liste,first,splitpoint-1)\n",
    "        quicksortHlp(liste,splitpoint+1,last)\n",
    "def partition(liste,first,last):\n",
    "    pivotvalue = liste[first]\n",
    "    leftmark = first+1\n",
    "    rightmark = last\n",
    "    done = False\n",
    "    while not done:\n",
    "        while leftmark <= rightmark and liste[leftmark] <= pivotvalue:\n",
    "            leftmark = leftmark + 1\n",
    "        while liste[rightmark] >= pivotvalue and rightmark >= leftmark:\n",
    "            rightmark = rightmark -1\n",
    "        if rightmark < leftmark:\n",
    "            done = True\n",
    "        else:\n",
    "            temp = liste[leftmark]\n",
    "            liste[leftmark] =liste[rightmark]\n",
    "            liste[rightmark] = temp\n",
    "    temp =liste[first]\n",
    "    liste[first] =liste[rightmark]\n",
    "    liste[rightmark] = temp\n",
    "    return rightmark\n",
    "liste =[29,13,22,37,52,49,46,71,56]\n",
    "quicksort(liste)\n",
    "print(liste)"
   ]
  },
  {
   "cell_type": "code",
   "execution_count": null,
   "id": "4245ef5d",
   "metadata": {},
   "outputs": [],
   "source": []
  }
 ],
 "metadata": {
  "kernelspec": {
   "display_name": "Python 3 (ipykernel)",
   "language": "python",
   "name": "python3"
  },
  "language_info": {
   "codemirror_mode": {
    "name": "ipython",
    "version": 3
   },
   "file_extension": ".py",
   "mimetype": "text/x-python",
   "name": "python",
   "nbconvert_exporter": "python",
   "pygments_lexer": "ipython3",
   "version": "3.9.7"
  }
 },
 "nbformat": 4,
 "nbformat_minor": 5
}
