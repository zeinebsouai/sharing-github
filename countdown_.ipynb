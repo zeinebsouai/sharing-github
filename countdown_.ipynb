{
 "cells": [
  {
   "cell_type": "code",
   "execution_count": null,
   "id": "5f7839df",
   "metadata": {},
   "outputs": [
    {
     "name": "stdout",
     "output_type": "stream",
     "text": [
      "enter length of countdown in seconds: 15\n",
      "00:08\r"
     ]
    }
   ],
   "source": [
    "import time\n",
    "t=int(input('enter length of countdown in seconds: '))\n",
    "def countdown(t):\n",
    "    while t>0:\n",
    "        minutes,seconds=divmod(t,60)\n",
    "        timer = '{:02d}:{:02d}'.format(minutes, seconds) \n",
    "        print(timer, end='\\r')\n",
    "        time.sleep(1)\n",
    "        t-=1\n",
    "    print('Fire in the hole')\n",
    "countdown(t)"
   ]
  },
  {
   "cell_type": "code",
   "execution_count": null,
   "id": "13db24a2",
   "metadata": {},
   "outputs": [],
   "source": []
  }
 ],
 "metadata": {
  "kernelspec": {
   "display_name": "Python 3 (ipykernel)",
   "language": "python",
   "name": "python3"
  },
  "language_info": {
   "codemirror_mode": {
    "name": "ipython",
    "version": 3
   },
   "file_extension": ".py",
   "mimetype": "text/x-python",
   "name": "python",
   "nbconvert_exporter": "python",
   "pygments_lexer": "ipython3",
   "version": "3.9.7"
  }
 },
 "nbformat": 4,
 "nbformat_minor": 5
}
