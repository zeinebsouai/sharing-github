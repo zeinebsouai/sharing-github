{
 "cells": [
  {
   "cell_type": "code",
   "execution_count": 9,
   "id": "6570e3a9",
   "metadata": {},
   "outputs": [
    {
     "name": "stdout",
     "output_type": "stream",
     "text": [
      "enter a number: 7\n",
      "enter a number: 45\n",
      "enter a number: 9\n"
     ]
    },
    {
     "data": {
      "text/plain": [
       "45"
      ]
     },
     "execution_count": 9,
     "metadata": {},
     "output_type": "execute_result"
    }
   ],
   "source": [
    "#question1\n",
    "def max(a,b,c):\n",
    "    if a>b and a>c:\n",
    "        return(a)\n",
    "    if b>c and b>a:\n",
    "        return(b)\n",
    "    if c>b and c>a:\n",
    "        return(c)\n",
    "a=int(input('enter a number: '))\n",
    "b=int(input('enter a number: '))\n",
    "c=int(input('enter a number: '))\n",
    "max(a,b,c)"
   ]
  },
  {
   "cell_type": "code",
   "execution_count": 10,
   "id": "c24aed0c",
   "metadata": {},
   "outputs": [
    {
     "data": {
      "text/plain": [
       "(50, 30)"
      ]
     },
     "execution_count": 10,
     "metadata": {},
     "output_type": "execute_result"
    }
   ],
   "source": [
    "#question2\n",
    "def sum_sub(a,b):\n",
    "    s1=a+b\n",
    "    s2=a-b\n",
    "    return(s1,s2)\n",
    "a=40\n",
    "b=10\n",
    "sum_sub(a,b)"
   ]
  },
  {
   "cell_type": "code",
   "execution_count": 26,
   "id": "18b17b86",
   "metadata": {},
   "outputs": [
    {
     "name": "stdout",
     "output_type": "stream",
     "text": [
      "[1, 3] [2, 4]\n",
      "4 8\n"
     ]
    }
   ],
   "source": [
    "#question3\n",
    "\n",
    "def list_sum(liste):\n",
    "    s=0\n",
    "    for i in range(0,len(liste)):\n",
    "        s=s+liste[i]\n",
    "    return(s)\n",
    "liste=[1,2,3,4]\n",
    "list_sum(liste)\n",
    "\n",
    "def list_mult(liste):\n",
    "    p=1\n",
    "    for i in range(0,len(liste)):\n",
    "        p=p*liste[i]\n",
    "    return(p)\n",
    "list_mult(liste)\n",
    "li_even = []\n",
    "li_odd = []\n",
    "count = 0\n",
    "for i in liste:\n",
    "    if count % 2 == 0:\n",
    "        li_even.append(i)\n",
    "    count += 1\n",
    "for i in liste:\n",
    "    if count % 2 == 1:\n",
    "        li_odd.append(i)\n",
    "    count += 1\n",
    "sf=list_sum(li_even)\n",
    "pf=list_mult(li_odd)\n",
    "print(li_even,li_odd)\n",
    "print(sf,pf)"
   ]
  },
  {
   "cell_type": "code",
   "execution_count": 28,
   "id": "ff9f7eb9",
   "metadata": {},
   "outputs": [
    {
     "data": {
      "text/plain": [
       "'black-green-red-white-yellow-'"
      ]
     },
     "execution_count": 28,
     "metadata": {},
     "output_type": "execute_result"
    }
   ],
   "source": [
    "#question4\n",
    "def func(ch):\n",
    "    x=ch.split('-')\n",
    "    x.sort()\n",
    "    ch2=''\n",
    "    for i in range(0,len(x)):\n",
    "        ch2=ch2+x[i]+'-'\n",
    "    return(ch2)\n",
    "ch='green-red-yellow-black-white'\n",
    "func(ch)"
   ]
  },
  {
   "cell_type": "code",
   "execution_count": 60,
   "id": "416f1cc5",
   "metadata": {},
   "outputs": [
    {
     "name": "stdout",
     "output_type": "stream",
     "text": [
      "enter a comma seperated sequence of numbers: 100,150,180\n",
      "18,22,24\n"
     ]
    }
   ],
   "source": [
    "#question5\n",
    "def fun1(D):\n",
    "    D=D.split(',')\n",
    "    D=[int(x) for x in D]\n",
    "    C=50\n",
    "    H=30\n",
    "    import math\n",
    "    i=0\n",
    "    liste=[]\n",
    "    while i<len(D):\n",
    "        liste.append(round(math.sqrt((2*C*D[i])/H)))\n",
    "        i=i+1\n",
    "    print(*liste,sep=',')\n",
    "p=input('enter a comma seperated sequence of numbers: ')\n",
    "\n",
    "fun1(p)"
   ]
  },
  {
   "cell_type": "code",
   "execution_count": null,
   "id": "b2f38035",
   "metadata": {},
   "outputs": [],
   "source": []
  }
 ],
 "metadata": {
  "kernelspec": {
   "display_name": "Python 3 (ipykernel)",
   "language": "python",
   "name": "python3"
  },
  "language_info": {
   "codemirror_mode": {
    "name": "ipython",
    "version": 3
   },
   "file_extension": ".py",
   "mimetype": "text/x-python",
   "name": "python",
   "nbconvert_exporter": "python",
   "pygments_lexer": "ipython3",
   "version": "3.9.7"
  }
 },
 "nbformat": 4,
 "nbformat_minor": 5
}
